{
  "nbformat": 4,
  "nbformat_minor": 0,
  "metadata": {
    "colab": {
      "provenance": [],
      "toc_visible": true
    },
    "kernelspec": {
      "name": "python3",
      "display_name": "Python 3"
    },
    "language_info": {
      "name": "python"
    }
  },
  "cells": [
    {
      "cell_type": "markdown",
      "source": [
        "# QUESTION 1"
      ],
      "metadata": {
        "id": "xPR4Ho9_qHot"
      }
    },
    {
      "cell_type": "markdown",
      "source": [
        "Let’s use a function named isPhoneNumber() to check whether a string matches this pattern,\n",
        "returning either True or False."
      ],
      "metadata": {
        "id": "2bAuAiKKqOJ-"
      }
    },
    {
      "cell_type": "markdown",
      "source": [
        "Regular expressions, called regexes for short, are descriptions for a pattern of text. For example, a\n",
        "\\d in a regex stands for a digit character—that is, any single numeral 0 to 9. The regex \\d\\d\\d-\\d\\d\\d-\n",
        "\\d\\d\\d\\d is used by Python to match the text containing phone numbers in the isPhoneNumber()\n",
        "function: a string of three numbers, a hyphen, three more numbers, another hyphen, and four\n",
        "numbers. Any other string would not match the \\d\\d\\d-\\d\\d\\d-\\d\\d\n",
        "\\d\\d regex. But regular expressions can be much more sophisticated. For example, adding a 3 in\n",
        "curly brackets ({3}) after a pattern is like saying, “Match this pattern three times.” So the slightly\n",
        "shorter regex \\d{3}-\\d{3}-\\d{4} also matches the correct phone number format."
      ],
      "metadata": {
        "id": "xeFEeRyVwRyO"
      }
    },
    {
      "cell_type": "markdown",
      "source": [
        "All the regex functions in Python are in the re module. Enter the following into an interactive shell\n",
        "to import this module:"
      ],
      "metadata": {
        "id": "GJ3dwhupx7wh"
      }
    },
    {
      "cell_type": "code",
      "source": [
        "import re"
      ],
      "metadata": {
        "id": "mPN-KOKewgb7"
      },
      "execution_count": 3,
      "outputs": []
    },
    {
      "cell_type": "code",
      "execution_count": 40,
      "metadata": {
        "id": "G2RaWe6Zp8Dv"
      },
      "outputs": [],
      "source": [
        "def isPhoneNumber(text):\n",
        "  phone_pattern = r'\\b[0-9]{3}-\\d\\d\\d-[0-9]{4}\\b'\n",
        "  return bool(re.search(phone_pattern, text))"
      ]
    },
    {
      "cell_type": "markdown",
      "source": [
        "Example usage:"
      ],
      "metadata": {
        "id": "AF7Af7klyT7g"
      }
    },
    {
      "cell_type": "code",
      "source": [
        "# \"123-456-7890\" is a phone number: True\n",
        "print(\"\\\"123-456-7890\\\" is a phone number: \"+ str(isPhoneNumber(\"123-456-7890\")))"
      ],
      "metadata": {
        "colab": {
          "base_uri": "https://localhost:8080/"
        },
        "id": "xIpe8XDayTQ6",
        "outputId": "599b4910-6a6f-4444-9393-bc3396cedd32"
      },
      "execution_count": 30,
      "outputs": [
        {
          "output_type": "stream",
          "name": "stdout",
          "text": [
            "\"123-456-7890\" is a phone number: True\n"
          ]
        }
      ]
    },
    {
      "cell_type": "code",
      "source": [
        "# \"abc-456-7890\" is a phone number: False\n",
        "print(\"\\\"abc-456-7890\\\" is a phone number: \"+str(isPhoneNumber(\"abc-456-7890\")))"
      ],
      "metadata": {
        "colab": {
          "base_uri": "https://localhost:8080/"
        },
        "id": "jufVErPvzS_z",
        "outputId": "8582d05b-7b9a-406a-9ec8-6a0762d15812"
      },
      "execution_count": 34,
      "outputs": [
        {
          "output_type": "stream",
          "name": "stdout",
          "text": [
            "\"abc-456-7890\" is a phone number: False\n"
          ]
        }
      ]
    },
    {
      "cell_type": "code",
      "source": [
        "# \"123-456-7890OK\" is a phone number: False\n",
        "print(\"\\\"123-456-7890OK\\\" is a phone number: \"+str(isPhoneNumber(\"123-456-7890OK\")))"
      ],
      "metadata": {
        "colab": {
          "base_uri": "https://localhost:8080/"
        },
        "id": "9wBQogZYzcJh",
        "outputId": "d35187e1-f094-4632-fc70-01263c7f1658"
      },
      "execution_count": 41,
      "outputs": [
        {
          "output_type": "stream",
          "name": "stdout",
          "text": [
            "\"123-456-7890OK\" is a phone number: False\n"
          ]
        }
      ]
    },
    {
      "cell_type": "markdown",
      "source": [
        "# QUESTION 2"
      ],
      "metadata": {
        "id": "WLCuBGrYz0sr"
      }
    },
    {
      "cell_type": "markdown",
      "source": [
        "Unix-based operating systems usually include a tool named tail. It displays the last 10 lines of a\n",
        "file whose name is provided as a command line argument.\n",
        "\n",
        "\n",
        "Write a program that provides the same behavior i.e. the user can specify how many lines to print\n",
        "from the terminal. Display an appropriate error message if the file requested by the user does not\n",
        "exist, or if the command line argument is omitted.\n",
        "\n",
        "Extend this program to display the: (a) first n lines of a file i.e. head and (b) the middle n lines of a file i.e. middle."
      ],
      "metadata": {
        "id": "q200Ed7rEhlU"
      }
    },
    {
      "cell_type": "markdown",
      "source": [
        "## Tail, head, middle functions"
      ],
      "metadata": {
        "id": "ptCQaeDPt6b_"
      }
    },
    {
      "cell_type": "code",
      "source": [
        "import os\n",
        "\n",
        "def tail(filename, n):\n",
        "    try:\n",
        "        with open(filename, 'r') as file:\n",
        "            lines = file.readlines()\n",
        "            if n > len(lines):\n",
        "                n = len(lines)\n",
        "            for line in lines[-n:]:\n",
        "                print(line, end='')\n",
        "    except FileNotFoundError:\n",
        "        print(f\"Error: The file '{filename}' does not exist.\")\n",
        "\n",
        "def head(filename, n):\n",
        "    try:\n",
        "        with open(filename, 'r') as file:\n",
        "            lines = file.readlines()\n",
        "            if n > len(lines):\n",
        "                n = len(lines)\n",
        "            for line in lines[:n]:\n",
        "                print(line, end='')\n",
        "    except FileNotFoundError:\n",
        "        print(f\"Error: The file '{filename}' does not exist.\")\n",
        "\n",
        "def middle(filename, n):\n",
        "    try:\n",
        "        with open(filename, 'r') as file:\n",
        "            lines = file.readlines()\n",
        "            total_lines = len(lines)\n",
        "            if n > total_lines:\n",
        "                n = total_lines\n",
        "            start_index = (total_lines - n) // 2\n",
        "            for line in lines[start_index:start_index + n]:\n",
        "                print(line, end='')\n",
        "    except FileNotFoundError:\n",
        "        print(f\"Error: The file '{filename}' does not exist.\")"
      ],
      "metadata": {
        "id": "jcsf5iLDbYiD"
      },
      "execution_count": 45,
      "outputs": []
    },
    {
      "cell_type": "markdown",
      "source": [
        "### Example usage of functions using example helper method with sample.txt"
      ],
      "metadata": {
        "id": "37CIQeOZt-sE"
      }
    },
    {
      "cell_type": "code",
      "source": [
        "def example(filename,mode,n):\n",
        "  try:\n",
        "      n = int(n)\n",
        "      mode = mode.lower()\n",
        "      if mode == 'tail':\n",
        "          tail(filename, n)\n",
        "      elif mode == 'head':\n",
        "          head(filename, n)\n",
        "      elif mode == 'middle':\n",
        "          middle(filename, n)\n",
        "      else:\n",
        "          print(\"Error: Invalid mode.\")\n",
        "  except ValueError:\n",
        "      print(\"Error: n must be an integer.\")"
      ],
      "metadata": {
        "id": "C5pBeQhMc-jm"
      },
      "execution_count": 51,
      "outputs": []
    },
    {
      "cell_type": "markdown",
      "source": [
        "#### Creating a sample text file"
      ],
      "metadata": {
        "id": "pTkzyw4Tt1kL"
      }
    },
    {
      "cell_type": "code",
      "source": [
        "sample_text = \"\"\"This is line 1\n",
        "This is line 2\n",
        "This is line 3\n",
        "This is line 4\n",
        "This is line 5\n",
        "This is line 6\n",
        "This is line 7\n",
        "This is line 8\n",
        "This is line 9\n",
        "This is line 10\n",
        "This is line 11\n",
        "This is line 12\n",
        "This is line 13\n",
        "This is line 14\n",
        "This is line 15\"\"\"\n",
        "\n",
        "with open('sample.txt', 'w') as file:\n",
        "    file.write(sample_text)"
      ],
      "metadata": {
        "id": "X3ui8LLFbtSd"
      },
      "execution_count": 53,
      "outputs": []
    },
    {
      "cell_type": "markdown",
      "source": [
        "##### Middle 6 elements"
      ],
      "metadata": {
        "id": "Zp4a6-64uGNi"
      }
    },
    {
      "cell_type": "code",
      "source": [
        "example('sample.txt','middle',6);"
      ],
      "metadata": {
        "colab": {
          "base_uri": "https://localhost:8080/"
        },
        "collapsed": true,
        "id": "ImqaljvEd2oM",
        "outputId": "8c069ab6-71b4-4297-ecb5-cd5bcb45d40d"
      },
      "execution_count": 70,
      "outputs": [
        {
          "output_type": "stream",
          "name": "stdout",
          "text": [
            "This is line 5\n",
            "This is line 6\n",
            "This is line 7\n",
            "This is line 8\n",
            "This is line 9\n",
            "This is line 10\n"
          ]
        }
      ]
    },
    {
      "cell_type": "markdown",
      "source": [
        "This is line 5 <br>\n",
        "This is line 6<br>\n",
        "This is line 7<br>\n",
        "This is line 8<br>\n",
        "This is line 9<br>\n",
        "This is line 10"
      ],
      "metadata": {
        "id": "GDoqcTuiv02P"
      }
    },
    {
      "cell_type": "markdown",
      "source": [
        "##### Last 3 elements"
      ],
      "metadata": {
        "id": "iHv4dt6CuLZt"
      }
    },
    {
      "cell_type": "code",
      "source": [
        "example('sample.txt','tail',3)"
      ],
      "metadata": {
        "colab": {
          "base_uri": "https://localhost:8080/"
        },
        "collapsed": true,
        "id": "fCKLh-Gjd3KU",
        "outputId": "2b5b4d12-ea7c-49e8-9628-0dfd56913473"
      },
      "execution_count": 72,
      "outputs": [
        {
          "output_type": "stream",
          "name": "stdout",
          "text": [
            "This is line 13\n",
            "This is line 14\n",
            "This is line 15"
          ]
        }
      ]
    },
    {
      "cell_type": "markdown",
      "source": [
        "This is line 13 <br>\n",
        "This is line 14 <br>\n",
        "This is line 15 <br>"
      ],
      "metadata": {
        "id": "ORgNkevLvvii"
      }
    },
    {
      "cell_type": "markdown",
      "source": [
        "##### First 2 elements"
      ],
      "metadata": {
        "id": "MI9m_-8nuNsF"
      }
    },
    {
      "cell_type": "code",
      "source": [
        "example('sample.txt','head',2)"
      ],
      "metadata": {
        "colab": {
          "base_uri": "https://localhost:8080/"
        },
        "collapsed": true,
        "id": "v64dGSZBgdHn",
        "outputId": "95423335-06a1-4a7f-ef32-ce3fb92a113f"
      },
      "execution_count": 71,
      "outputs": [
        {
          "output_type": "stream",
          "name": "stdout",
          "text": [
            "This is line 1\n",
            "This is line 2\n"
          ]
        }
      ]
    },
    {
      "cell_type": "markdown",
      "source": [
        "This is line 1 <br>\n",
        "This is line 2"
      ],
      "metadata": {
        "id": "49_nnOyovYkS"
      }
    },
    {
      "cell_type": "markdown",
      "source": [
        "# QUESTION 3\n",
        "\n"
      ],
      "metadata": {
        "id": "Y34KIwyCz0pu"
      }
    },
    {
      "cell_type": "markdown",
      "source": [
        "Write a function called SpOdd. The function takes an array of integers as input and return an\n",
        "array of integers with all odd numbers in original array.\n",
        "Keep the same order as the original array."
      ],
      "metadata": {
        "id": "Xo5ZRyUJuuET"
      }
    },
    {
      "cell_type": "markdown",
      "source": [
        "## Python code"
      ],
      "metadata": {
        "id": "EB7jbtPmuqXW"
      }
    },
    {
      "cell_type": "code",
      "source": [
        "def SpOdd(arr):\n",
        "    return [x for x in arr if x % 2 != 0] #functional programming"
      ],
      "metadata": {
        "id": "VihshjFQiBvz"
      },
      "execution_count": 67,
      "outputs": []
    },
    {
      "cell_type": "markdown",
      "source": [
        "### Test function"
      ],
      "metadata": {
        "id": "k5TLfWU2wMZc"
      }
    },
    {
      "cell_type": "code",
      "source": [
        "print(SpOdd([3, 8, 5, 7, 1, 9, 2]))"
      ],
      "metadata": {
        "colab": {
          "base_uri": "https://localhost:8080/"
        },
        "id": "x1RiDPyTis36",
        "outputId": "890eaff7-0a82-457f-9bfc-4629ec46b393"
      },
      "execution_count": 68,
      "outputs": [
        {
          "output_type": "stream",
          "name": "stdout",
          "text": [
            "[3, 5, 7, 1, 9]\n"
          ]
        }
      ]
    },
    {
      "cell_type": "markdown",
      "source": [
        "Sample output of main function:\n",
        "\n",
        "Original Array: [3, 8, 5, 7, 1, 9, 2]\n",
        "\n",
        "Odd elements in the array: [3, 5, 7, 1, 9]"
      ],
      "metadata": {
        "id": "Py6Kb2lFu7_Z"
      }
    },
    {
      "cell_type": "markdown",
      "source": [
        "# QUESTION 4"
      ],
      "metadata": {
        "id": "NvaGzLm4w0Mp"
      }
    },
    {
      "cell_type": "markdown",
      "source": [
        "\n",
        "Write Verilog code to describe the following functions:"
      ],
      "metadata": {
        "id": "GnW6ooocEbg4"
      }
    },
    {
      "cell_type": "markdown",
      "source": [
        "f1=x1⋅(∼x3)+x2⋅(∼x3)+(∼x3)⋅(∼x4)+x1⋅x2+x1⋅(∼x4)\n",
        "\n",
        "f2=(x1+(∼x3))⋅(x1+x2+(∼x4))⋅(x2+(∼x3)+(∼x4))"
      ],
      "metadata": {
        "id": "LxL2sWhYyADI"
      }
    },
    {
      "cell_type": "markdown",
      "source": [
        "## Verilog code"
      ],
      "metadata": {
        "id": "4EknoGU6AMXa"
      }
    },
    {
      "cell_type": "markdown",
      "source": [
        "    module boolean_functions(\n",
        "    input wire x1,\n",
        "    input wire x2,\n",
        "    input wire x3,\n",
        "    input wire x4,\n",
        "    output reg f1_output,\n",
        "    output reg f2_output\n",
        "    );\n",
        "\n",
        "    // Function f1\n",
        "    always @* begin\n",
        "        f1_output = (x1 & ~x3) | (x2 & ~x3) | (~x3 & ~x4) | (x1 & x2) | (x1 & ~x4);\n",
        "    end\n",
        "\n",
        "    // Function f2\n",
        "    always @* begin\n",
        "        f2_output = (x1 | ~x3) & (x1 | x2 | ~x4) & (x2 | ~x3 | ~x4);\n",
        "    end\n",
        "\n",
        "    endmodule"
      ],
      "metadata": {
        "id": "X4BKI3eHzCzA"
      }
    },
    {
      "cell_type": "markdown",
      "source": [
        "### Test verilog code"
      ],
      "metadata": {
        "id": "Yq4_BoiUABir"
      }
    },
    {
      "cell_type": "markdown",
      "source": [
        "    module testbench;\n",
        "\n",
        "    // Inputs\n",
        "    reg x1, x2, x3, x4;\n",
        "    // Outputs\n",
        "    wire f1_output, f2_output;\n",
        "\n",
        "    boolean_functions dut (\n",
        "        .x1(x1),\n",
        "        .x2(x2),\n",
        "        .x3(x3),\n",
        "        .x4(x4),\n",
        "        .f1_output(f1_output),\n",
        "        .f2_output(f2_output)\n",
        "    );\n",
        "\n",
        "    // Stimulus generation\n",
        "    initial begin\n",
        "        // test vectors\n",
        "        x1 = 1; x2 = 0; x3 = 1; x4 = 0; //\n",
        "        #10;\n",
        "        $display(\"x1=%b, x2=%b, x3=%b, x4=%b, f1_output=%b, f2_output=%b\",\n",
        "                 x1, x2, x3, x4, f1_output, f2_output);\n",
        "        $finish;\n",
        "    end\n",
        "\n",
        "    endmodule"
      ],
      "metadata": {
        "id": "hKLmHqdZ_e6D"
      }
    },
    {
      "cell_type": "markdown",
      "source": [
        "#### Test output\n",
        "x1=1, x2=0, x3=1, x4=0, f1_output=1, f2_output=1\n",
        "main.v:48: $finish called at 10 (1s)"
      ],
      "metadata": {
        "id": "hY1YLPnQ_8aO"
      }
    },
    {
      "cell_type": "markdown",
      "source": [
        "# QUESTION 5"
      ],
      "metadata": {
        "id": "a8C8rc4V1AE-"
      }
    },
    {
      "cell_type": "markdown",
      "source": [
        "## Load"
      ],
      "metadata": {
        "id": "Dw5pq8aRKdBE"
      }
    },
    {
      "cell_type": "markdown",
      "source": [
        "    Load the constant 23 into register 4\n",
        "    li $4, 23\n",
        "\n",
        "    Copy the contents of register 2 into register 3\n",
        "    move $3, $2\n",
        "\n",
        "    Load char (one byte) starting at memory address 244 into register 6\n",
        "    lb $6, 244($0)\n",
        "\n",
        "    Load R5 with the word whose memory address is in R1\n",
        "    lw $5, 0($1)\n",
        "\n",
        "    Load the word that begins 8 bytes after the address in R1. This is known as \"constant offset\"\n",
        "    mode and is about the fanciest addressing mode a RISC processor will support.\n",
        "    lw $2, 8($1)"
      ],
      "metadata": {
        "id": "PcVh598lCdrC"
      }
    },
    {
      "cell_type": "markdown",
      "source": [
        "## Store"
      ],
      "metadata": {
        "id": "S9hDBN8sKZdJ"
      }
    },
    {
      "cell_type": "markdown",
      "source": [
        "    Store the constant number 37 into the word beginning at 400\n",
        "    li $8, 37\n",
        "    sw $8, 400($0)  \n",
        "\n",
        "    Store the value in R6 into the word whose address is in R1\n",
        "    sw $6, 0($1)\n",
        "\n",
        "    Store lower half-word from R2 into 2 bytes starting at address 1024\n",
        "    sh $2, 1024($0)\n",
        "\n",
        "    Store R7 into the word whose address is 12 more than the address in R1\n",
        "    sw $7, 12($1)\n"
      ],
      "metadata": {
        "id": "SuJb2ehpGK1_"
      }
    },
    {
      "cell_type": "markdown",
      "source": [
        "## ALU"
      ],
      "metadata": {
        "id": "xchWoC4bKX_o"
      }
    },
    {
      "cell_type": "markdown",
      "source": [
        "    Add 6 to R3 and store the result in R1\n",
        "    addi $1, $3, 6  \n",
        "\n",
        "    Subtract R3 from R2 and store the result in R1\n",
        "    sub $1, $2, $3   "
      ],
      "metadata": {
        "id": "wPwcRa2VHiyc"
      }
    },
    {
      "cell_type": "markdown",
      "source": [
        "## Branching"
      ],
      "metadata": {
        "id": "JKNe_0IXKVu5"
      }
    },
    {
      "cell_type": "markdown",
      "source": [
        "    Begin executing at address 344 if R1 equals 0\n",
        "    beq $1, $0, 344  \n",
        "\n",
        "    Begin executing at addr 8 past current instruction if R2 less than R3\n",
        "    blt $2, $3, PC+8   "
      ],
      "metadata": {
        "id": "n3guqr-MHs5S"
      }
    },
    {
      "cell_type": "markdown",
      "source": [
        "## Jump"
      ],
      "metadata": {
        "id": "-gmVkmqjKPfp"
      }
    },
    {
      "cell_type": "markdown",
      "source": [
        "    Begin executing at address 2000 unconditionally- like a goto\n",
        "    jmp 2000\n",
        "\n",
        "    Begin executing at address 12 before current instruction\n",
        "    j PC-12"
      ],
      "metadata": {
        "id": "aynRc6l_JALC"
      }
    },
    {
      "cell_type": "markdown",
      "source": [
        "## Data conversion"
      ],
      "metadata": {
        "id": "RUTI9-8DKNuv"
      }
    },
    {
      "cell_type": "markdown",
      "source": [
        "    Convert integer in R3 to float and store in R2\n",
        "    mtc1 $3, $f0  \n",
        "    cvt.s.w $f0, $f0\n",
        "    mfc1 $2, $f0\n",
        "\n",
        "    Take bits in R4, convert from float to int, and store back in same. Note that converting in this\n",
        "    direction loses information, the fractional component is truncated and lost.\n",
        "    mtc1 $4, $f2    \n",
        "    cvt.w.s $f2, $f2  \n",
        "    mfc1 $4, $f2\n",
        "\n",
        "\n"
      ],
      "metadata": {
        "id": "aqEaQNx0JRl8"
      }
    }
  ]
}